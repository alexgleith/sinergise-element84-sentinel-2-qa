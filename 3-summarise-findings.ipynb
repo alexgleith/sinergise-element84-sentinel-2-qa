{
 "cells": [
  {
   "cell_type": "code",
   "execution_count": 1,
   "metadata": {},
   "outputs": [],
   "source": [
    "import json"
   ]
  },
  {
   "cell_type": "code",
   "execution_count": 3,
   "metadata": {},
   "outputs": [],
   "source": [
    "with open('data/sinergise-qa-output.json') as f:\n",
    "    qa = json.load(f)"
   ]
  },
  {
   "cell_type": "code",
   "execution_count": 6,
   "metadata": {
    "tags": []
   },
   "outputs": [
    {
     "output_type": "stream",
     "name": "stdout",
     "text": "['Cloud value 0.0 in L1 and L2']\n"
    }
   ],
   "source": [
    "all_zero = 0\n",
    "no_geom = 0\n",
    "no_level1 = 0\n",
    "for k, item in qa.items():\n",
    "    print(item)\n",
    "    if 'Cloud value 0.0 in L1 and L2' in item:\n",
    "        all_zero += 1\n",
    "    if "
   ]
  },
  {
   "cell_type": "code",
   "execution_count": null,
   "metadata": {},
   "outputs": [],
   "source": []
  }
 ],
 "metadata": {
  "language_info": {
   "codemirror_mode": {
    "name": "ipython",
    "version": 3
   },
   "file_extension": ".py",
   "mimetype": "text/x-python",
   "name": "python",
   "nbconvert_exporter": "python",
   "pygments_lexer": "ipython3",
   "version": "3.7.7-final"
  },
  "orig_nbformat": 2,
  "kernelspec": {
   "name": "python37764bit0fb2af63a77e49af99dd377937c85efa",
   "display_name": "Python 3.7.7 64-bit"
  }
 },
 "nbformat": 4,
 "nbformat_minor": 2
}