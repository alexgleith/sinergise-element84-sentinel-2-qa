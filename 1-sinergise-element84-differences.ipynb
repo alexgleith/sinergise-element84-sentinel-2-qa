{
 "cells": [
  {
   "cell_type": "code",
   "execution_count": 5,
   "metadata": {},
   "outputs": [],
   "source": [
    "import pandas as pd\n",
    "pd.set_option('display.max_colwidth', -1)\n",
    "\n",
    "sinergise_list = 'data/sinergise-tiles-20200701.list.gz'\n",
    "element84_list = 'data/element84-tiles-20200701.list.gz'"
   ]
  },
  {
   "cell_type": "code",
   "execution_count": 7,
   "metadata": {
    "tags": []
   },
   "outputs": [
    {
     "output_type": "stream",
     "name": "stdout",
     "text": "Found 1589247 Sinergise and 1452822 Element84 scenes.\n"
    }
   ],
   "source": [
    "s = pd.read_csv(sinergise_list, header=None, names=['sinergise'])\n",
    "e = pd.read_csv(element84_list, header=None, names=['element84'])\n",
    "print(f\"Found {len(s)} Sinergise and {len(e)} Element84 scenes.\")"
   ]
  },
  {
   "cell_type": "code",
   "execution_count": 8,
   "metadata": {},
   "outputs": [],
   "source": [
    "s[['tile_id']] = s.sinergise.apply( \n",
    "   lambda x: pd.Series(\"{0[4]}{0[5]}{0[6]}_{0[7]}{0[8]:0>2}{0[9]:0>2}_{0[10]}\".format(str(x).split(\"/\"))))"
   ]
  },
  {
   "cell_type": "code",
   "execution_count": 9,
   "metadata": {},
   "outputs": [],
   "source": [
    "e[['tile_id']] = e.element84.apply( \n",
    "   lambda x: pd.Series(\"{0}\".format(str(x).split(\"/\")[5][4:20])))"
   ]
  },
  {
   "cell_type": "code",
   "execution_count": 10,
   "metadata": {},
   "outputs": [],
   "source": [
    "all_tiles = s.merge(e, on=['tile_id','tile_id'], how='outer', indicator=True)"
   ]
  },
  {
   "cell_type": "code",
   "execution_count": 11,
   "metadata": {
    "tags": []
   },
   "outputs": [
    {
     "output_type": "stream",
     "name": "stdout",
     "text": "Found 136838 scenes that are only in Sinergise and 125 that are only in Element84.\n"
    }
   ],
   "source": [
    "sinergise = all_tiles[all_tiles._merge == 'left_only'].drop(columns=['element84', '_merge'])\n",
    "element84 = all_tiles[all_tiles._merge == 'right_only'].drop(columns=['sinergise', '_merge'])\n",
    "print(f\"Found {len(sinergise)} scenes that are only in Sinergise and {len(element84)} that are only in Element84.\")"
   ]
  },
  {
   "cell_type": "code",
   "execution_count": 191,
   "metadata": {},
   "outputs": [],
   "source": [
    "sinergise.to_csv('data/sinergise-only.txt', columns=['sinergise', 'tile_id'], index=False)\n",
    "element84.to_csv('data/element84-only.txt', columns=['element84', 'tile_id'], index=False)"
   ]
  }
 ],
 "metadata": {
  "kernelspec": {
   "display_name": "Python 3",
   "language": "python",
   "name": "python3"
  },
  "language_info": {
   "codemirror_mode": {
    "name": "ipython",
    "version": 3
   },
   "file_extension": ".py",
   "mimetype": "text/x-python",
   "name": "python",
   "nbconvert_exporter": "python",
   "pygments_lexer": "ipython3",
   "version": "3.7.7-final"
  }
 },
 "nbformat": 4,
 "nbformat_minor": 4
}