{
 "cells": [
  {
   "cell_type": "code",
   "execution_count": 1,
   "metadata": {},
   "outputs": [],
   "source": [
    "import pandas as pd\n",
    "import boto3\n",
    "import json\n",
    "\n",
    "from multiprocessing import Pool"
   ]
  },
  {
   "cell_type": "code",
   "execution_count": 52,
   "metadata": {},
   "outputs": [],
   "source": [
    "missing = pd.read_csv('data/sinergise_only.txt')"
   ]
  },
  {
   "cell_type": "code",
   "execution_count": 54,
   "metadata": {
    "scrolled": false
   },
   "outputs": [],
   "source": [
    "import requests\n",
    "import boto3\n",
    "\n",
    "bucket = 'sentinel-s2-l2a'\n",
    "client = boto3.client('s3')\n",
    "\n",
    "def get_errors(tileinfo, l2):\n",
    "    errors = []\n",
    "    if not l2.get('tileDataGeometry'):\n",
    "        errors.append(\"No tileDataGeometry field\")\n",
    "    if l2['cloudyPixelPercentage'] == 0:\n",
    "        try:\n",
    "            url_l1 = \"https://roda.sentinel-hub.com/sentinel-s2-l1c\" + tileinfo.split(bucket)[1]\n",
    "            l1 = requests.get(url_l1).json()\n",
    "            if l1['cloudyPixelPercentage'] == 0:\n",
    "                errors.append(\"Cloud value 0.0 in L1 and L2\")\n",
    "        except Exception as e:\n",
    "            errors.append(f\"L1 metadata {url_l1} not found.\")\n",
    "    return errors\n",
    "\n",
    "\n",
    "def check_tile(tileinfo):\n",
    "    url_l2 = \"https://roda.sentinel-hub.com/sentinel-s2-l2a\" + tileinfo.split(bucket)[1]\n",
    "    errors = []\n",
    "    try:\n",
    "        l2 = requests.get(url_l2).json()\n",
    "    except Exception as e:\n",
    "        errors.append(f\"L2 metadata {url_l2} not found.\")\n",
    "    if not errors:\n",
    "        errors = get_errors(tileinfo, l2)\n",
    "\n",
    "    return [tileinfo, errors]\n",
    "\n",
    "\n",
    "p = Pool(100)\n",
    "result = p.map(check_tile, missing['sinergise'])"
   ]
  },
  {
   "cell_type": "code",
   "execution_count": 56,
   "metadata": {},
   "outputs": [],
   "source": [
    "output = {}\n",
    "unresolved = []\n",
    "for item in result:\n",
    "    if item[1]:\n",
    "        output[item[0]] = item[1]\n",
    "    else:\n",
    "        unresolved.append(item[0])\n",
    "print(len(result))\n",
    "print(len(output))\n",
    "# with open('data/sinergise-qa-output.json', 'w') as outfile:\n",
    "#     json.dump(output, outfile, indent=2)\n",
    "# with open('data/sinergise-qa-todo.json', 'w') as outfile:\n",
    "#     json.dump(unresolved, outfile, indent=2)"
   ]
  }
 ],
 "metadata": {
  "kernelspec": {
   "display_name": "Python 3",
   "language": "python",
   "name": "python3"
  },
  "language_info": {
   "codemirror_mode": {
    "name": "ipython",
    "version": 3
   },
   "file_extension": ".py",
   "mimetype": "text/x-python",
   "name": "python",
   "nbconvert_exporter": "python",
   "pygments_lexer": "ipython3",
   "version": "3.7.7"
  }
 },
 "nbformat": 4,
 "nbformat_minor": 4
}