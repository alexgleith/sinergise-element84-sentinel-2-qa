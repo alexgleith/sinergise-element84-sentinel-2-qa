{
 "cells": [
  {
   "cell_type": "code",
   "execution_count": 2,
   "metadata": {},
   "outputs": [],
   "source": [
    "import subprocess\n",
    "import json"
   ]
  },
  {
   "cell_type": "code",
   "execution_count": 41,
   "metadata": {},
   "outputs": [],
   "source": [
    "scene_list = 'no_geometry/no-geom.list'"
   ]
  },
  {
   "cell_type": "code",
   "execution_count": 44,
   "metadata": {},
   "outputs": [],
   "source": [
    "scene_list = 'zero_cloud/zero-cloud.list'"
   ]
  },
  {
   "cell_type": "code",
   "execution_count": 52,
   "metadata": {},
   "outputs": [],
   "source": [
    "scene_list = 'unknown/unknowns.list'"
   ]
  },
  {
   "cell_type": "code",
   "execution_count": 53,
   "metadata": {},
   "outputs": [],
   "source": [
    "with open(scene_list) as f:\n",
    "    scenes = [x.strip() for x in f.readlines()]\n",
    "\n",
    "files_to_get = [\n",
    "    'tileInfo.json',\n",
    "    'R20m/SCL.jp2',\n",
    "    'R10m/B02.jp2'\n",
    "]\n",
    "\n",
    "for scene in scenes:\n",
    "    for file in files_to_get:\n",
    "        s3_file = f\"s3://sentinel-s2-l2a/{scene}/{file}\"\n",
    "        local_file = f\"{scene_list.split('/')[0]}/{scene}/{file}\"\n",
    "        command = [\n",
    "            \"aws\",\n",
    "            \"s3\",\n",
    "            \"cp\",\n",
    "            \"--request-payer requester\",\n",
    "            f\"{s3_file} {local_file}\"\n",
    "        ]\n",
    "        try:\n",
    "            result = subprocess.run(\" \".join(command), shell=True)\n",
    "        except Exception as e:\n",
    "            print(e)\n"
   ]
  },
  {
   "cell_type": "code",
   "execution_count": 54,
   "metadata": {},
   "outputs": [],
   "source": [
    "import gzip\n",
    "tile_list = 'africa-mgrs-tiles.csv.gz'\n",
    "\n",
    "# 41KKQ,41KKT\n",
    "tiles = []\n",
    "with gzip.open(tile_list) as f:\n",
    "    tiles = set([x.strip() for x in f.readlines()])"
   ]
  },
  {
   "cell_type": "code",
   "execution_count": 55,
   "metadata": {},
   "outputs": [
    {
     "name": "stdout",
     "output_type": "stream",
     "text": [
      "5766\n"
     ]
    }
   ],
   "source": [
    "print(len(tiles))"
   ]
  },
  {
   "cell_type": "code",
   "execution_count": null,
   "metadata": {},
   "outputs": [],
   "source": []
  }
 ],
 "metadata": {
  "kernelspec": {
   "display_name": "Python 3",
   "language": "python",
   "name": "python3"
  },
  "language_info": {
   "codemirror_mode": {
    "name": "ipython",
    "version": 3
   },
   "file_extension": ".py",
   "mimetype": "text/x-python",
   "name": "python",
   "nbconvert_exporter": "python",
   "pygments_lexer": "ipython3",
   "version": "3.7.7"
  }
 },
 "nbformat": 4,
 "nbformat_minor": 4
}
